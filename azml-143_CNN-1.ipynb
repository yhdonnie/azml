{
  "nbformat": 4,
  "nbformat_minor": 0,
  "metadata": {
    "colab": {
      "name": "3.fashion",
      "provenance": [],
      "collapsed_sections": [],
      "mount_file_id": "1bYJbFFmpNYacptFudBHkGHdBmSTjSPGV",
      "authorship_tag": "ABX9TyMgAZKSquo8AXHhgw3T+Gk1",
      "include_colab_link": true
    },
    "kernelspec": {
      "name": "python3",
      "display_name": "Python 3"
    },
    "accelerator": "GPU"
  },
  "cells": [
    {
      "cell_type": "markdown",
      "metadata": {
        "id": "view-in-github",
        "colab_type": "text"
      },
      "source": [
        "<a href=\"https://colab.research.google.com/github/yhdonnie/azml/blob/circleci-project-setup/azml-143_CNN-1.ipynb\" target=\"_parent\"><img src=\"https://colab.research.google.com/assets/colab-badge.svg\" alt=\"Open In Colab\"/></a>"
      ]
    },
    {
      "cell_type": "markdown",
      "metadata": {
        "id": "cYKgQokREsL9"
      },
      "source": [
        "### Keras CNN 으로 패션 아이템 구분하기"
      ]
    },
    {
      "cell_type": "markdown",
      "metadata": {
        "id": "0lEWU_axE7CM"
      },
      "source": [
        "1. 패키지 수입 및 파라미터 지정"
      ]
    },
    {
      "cell_type": "code",
      "metadata": {
        "id": "H-YM4bKgErrh"
      },
      "source": [
        "# 패키지 수입\r\n",
        "import matplotlib.pyplot as plt\r\n",
        "import numpy as np\r\n",
        "\r\n",
        "from time import time\r\n",
        "from keras.datasets import fashion_mnist\r\n",
        "from keras.models import Sequential\r\n",
        "from keras.utils import np_utils\r\n",
        "\r\n",
        "from keras.layers import Flatten\r\n",
        "from keras.layers import Dense, MaxPool2D\r\n",
        "from keras.layers import Conv2D, InputLayer\r\n",
        "\r\n"
      ],
      "execution_count": 1,
      "outputs": []
    },
    {
      "cell_type": "code",
      "metadata": {
        "id": "HRuk8YrZGh00"
      },
      "source": [
        "# 파라미터\r\n",
        "MY_EPOCH=100\r\n",
        "MY_BATCH=500"
      ],
      "execution_count": 2,
      "outputs": []
    },
    {
      "cell_type": "markdown",
      "metadata": {
        "id": "iSulTu5ZJu4s"
      },
      "source": [
        "2. 데이터 처리"
      ]
    },
    {
      "cell_type": "code",
      "metadata": {
        "colab": {
          "base_uri": "https://localhost:8080/"
        },
        "id": "nWDGwd7JJzkc",
        "outputId": "5c5ee8a8-4f5f-4f0f-ae5f-d2aa9afa3786"
      },
      "source": [
        "# 데이터 불러오기\r\n",
        "(X_train, Y_train), (X_test, Y_test) = fashion_mnist.load_data()\r\n",
        "print('학습용 입력 데이터', X_train.shape)\r\n",
        "print('학습용 출력 데이터:', Y_train.shape)\r\n",
        "\r\n",
        "print('평가용 입력 데이터', X_test.shape)\r\n",
        "print('평가용 출력 데이터:', Y_test.shape)"
      ],
      "execution_count": 3,
      "outputs": [
        {
          "output_type": "stream",
          "text": [
            "학습용 입력 데이터 (60000, 28, 28)\n",
            "학습용 출력 데이터: (60000,)\n",
            "평가용 입력 데이터 (10000, 28, 28)\n",
            "평가용 출력 데이터: (10000,)\n"
          ],
          "name": "stdout"
        }
      ]
    },
    {
      "cell_type": "code",
      "metadata": {
        "colab": {
          "base_uri": "https://localhost:8080/",
          "height": 1000
        },
        "id": "GDroJx4mLfB0",
        "outputId": "2ce8a307-9258-4ff7-9b42-78ba809f3e1f"
      },
      "source": [
        "# 데이터 샘플 출력.. 범위 0-255 (8 bit)\r\n",
        "print('학습용 데이터 첫번째 이미지 화소 정보')\r\n",
        "print(X_train[0])\r\n",
        "plt.figure(figsize=(10,10))\r\n",
        "plt.imshow(X_train[0], cmap='gray')\r\n",
        "print('학습용 데이터 첫번째 이미지의 라벨',Y_train[0])"
      ],
      "execution_count": 4,
      "outputs": [
        {
          "output_type": "stream",
          "text": [
            "학습용 데이터 첫번째 이미지 화소 정보\n",
            "[[  0   0   0   0   0   0   0   0   0   0   0   0   0   0   0   0   0   0\n",
            "    0   0   0   0   0   0   0   0   0   0]\n",
            " [  0   0   0   0   0   0   0   0   0   0   0   0   0   0   0   0   0   0\n",
            "    0   0   0   0   0   0   0   0   0   0]\n",
            " [  0   0   0   0   0   0   0   0   0   0   0   0   0   0   0   0   0   0\n",
            "    0   0   0   0   0   0   0   0   0   0]\n",
            " [  0   0   0   0   0   0   0   0   0   0   0   0   1   0   0  13  73   0\n",
            "    0   1   4   0   0   0   0   1   1   0]\n",
            " [  0   0   0   0   0   0   0   0   0   0   0   0   3   0  36 136 127  62\n",
            "   54   0   0   0   1   3   4   0   0   3]\n",
            " [  0   0   0   0   0   0   0   0   0   0   0   0   6   0 102 204 176 134\n",
            "  144 123  23   0   0   0   0  12  10   0]\n",
            " [  0   0   0   0   0   0   0   0   0   0   0   0   0   0 155 236 207 178\n",
            "  107 156 161 109  64  23  77 130  72  15]\n",
            " [  0   0   0   0   0   0   0   0   0   0   0   1   0  69 207 223 218 216\n",
            "  216 163 127 121 122 146 141  88 172  66]\n",
            " [  0   0   0   0   0   0   0   0   0   1   1   1   0 200 232 232 233 229\n",
            "  223 223 215 213 164 127 123 196 229   0]\n",
            " [  0   0   0   0   0   0   0   0   0   0   0   0   0 183 225 216 223 228\n",
            "  235 227 224 222 224 221 223 245 173   0]\n",
            " [  0   0   0   0   0   0   0   0   0   0   0   0   0 193 228 218 213 198\n",
            "  180 212 210 211 213 223 220 243 202   0]\n",
            " [  0   0   0   0   0   0   0   0   0   1   3   0  12 219 220 212 218 192\n",
            "  169 227 208 218 224 212 226 197 209  52]\n",
            " [  0   0   0   0   0   0   0   0   0   0   6   0  99 244 222 220 218 203\n",
            "  198 221 215 213 222 220 245 119 167  56]\n",
            " [  0   0   0   0   0   0   0   0   0   4   0   0  55 236 228 230 228 240\n",
            "  232 213 218 223 234 217 217 209  92   0]\n",
            " [  0   0   1   4   6   7   2   0   0   0   0   0 237 226 217 223 222 219\n",
            "  222 221 216 223 229 215 218 255  77   0]\n",
            " [  0   3   0   0   0   0   0   0   0  62 145 204 228 207 213 221 218 208\n",
            "  211 218 224 223 219 215 224 244 159   0]\n",
            " [  0   0   0   0  18  44  82 107 189 228 220 222 217 226 200 205 211 230\n",
            "  224 234 176 188 250 248 233 238 215   0]\n",
            " [  0  57 187 208 224 221 224 208 204 214 208 209 200 159 245 193 206 223\n",
            "  255 255 221 234 221 211 220 232 246   0]\n",
            " [  3 202 228 224 221 211 211 214 205 205 205 220 240  80 150 255 229 221\n",
            "  188 154 191 210 204 209 222 228 225   0]\n",
            " [ 98 233 198 210 222 229 229 234 249 220 194 215 217 241  65  73 106 117\n",
            "  168 219 221 215 217 223 223 224 229  29]\n",
            " [ 75 204 212 204 193 205 211 225 216 185 197 206 198 213 240 195 227 245\n",
            "  239 223 218 212 209 222 220 221 230  67]\n",
            " [ 48 203 183 194 213 197 185 190 194 192 202 214 219 221 220 236 225 216\n",
            "  199 206 186 181 177 172 181 205 206 115]\n",
            " [  0 122 219 193 179 171 183 196 204 210 213 207 211 210 200 196 194 191\n",
            "  195 191 198 192 176 156 167 177 210  92]\n",
            " [  0   0  74 189 212 191 175 172 175 181 185 188 189 188 193 198 204 209\n",
            "  210 210 211 188 188 194 192 216 170   0]\n",
            " [  2   0   0   0  66 200 222 237 239 242 246 243 244 221 220 193 191 179\n",
            "  182 182 181 176 166 168  99  58   0   0]\n",
            " [  0   0   0   0   0   0   0  40  61  44  72  41  35   0   0   0   0   0\n",
            "    0   0   0   0   0   0   0   0   0   0]\n",
            " [  0   0   0   0   0   0   0   0   0   0   0   0   0   0   0   0   0   0\n",
            "    0   0   0   0   0   0   0   0   0   0]\n",
            " [  0   0   0   0   0   0   0   0   0   0   0   0   0   0   0   0   0   0\n",
            "    0   0   0   0   0   0   0   0   0   0]]\n",
            "학습용 데이터 첫번째 이미지의 라벨 9\n"
          ],
          "name": "stdout"
        },
        {
          "output_type": "display_data",
          "data": {
            "image/png": "[encoded data removed]",
            "text/plain": [
              "<Figure size 720x720 with 1 Axes>"
            ]
          },
          "metadata": {
            "tags": [],
            "needs_background": "light"
          }
        }
      ]
    },
    {
      "cell_type": "code",
      "metadata": {
        "colab": {
          "base_uri": "https://localhost:8080/"
        },
        "id": "MvbFkcJxNP6G",
        "outputId": "4e054709-b702-4d69-9361-4031295aa6d2"
      },
      "source": [
        "# 데이터 스케일링 \r\n",
        "X_train = X_train / 255.0\r\n",
        "print(X_train[0])\r\n",
        "X_test = X_test /255.0\r\n",
        "\r\n",
        "# 이미지 채널 정보 추가 (흑백=1, 칼라=3  RGB)\r\n",
        "X_train = X_train.reshape(60000, 28, 28, 1)\r\n",
        "X_test = X_test.reshape(10000, 28, 28, 1)\r\n"
      ],
      "execution_count": 5,
      "outputs": [
        {
          "output_type": "stream",
          "text": [
            "[[0.         0.         0.         0.         0.         0.\n",
            "  0.         0.         0.         0.         0.         0.\n",
            "  0.         0.         0.         0.         0.         0.\n",
            "  0.         0.         0.         0.         0.         0.\n",
            "  0.         0.         0.         0.        ]\n",
            " [0.         0.         0.         0.         0.         0.\n",
            "  0.         0.         0.         0.         0.         0.\n",
            "  0.         0.         0.         0.         0.         0.\n",
            "  0.         0.         0.         0.         0.         0.\n",
            "  0.         0.         0.         0.        ]\n",
            " [0.         0.         0.         0.         0.         0.\n",
            "  0.         0.         0.         0.         0.         0.\n",
            "  0.         0.         0.         0.         0.         0.\n",
            "  0.         0.         0.         0.         0.         0.\n",
            "  0.         0.         0.         0.        ]\n",
            " [0.         0.         0.         0.         0.         0.\n",
            "  0.         0.         0.         0.         0.         0.\n",
            "  0.00392157 0.         0.         0.05098039 0.28627451 0.\n",
            "  0.         0.00392157 0.01568627 0.         0.         0.\n",
            "  0.         0.00392157 0.00392157 0.        ]\n",
            " [0.         0.         0.         0.         0.         0.\n",
            "  0.         0.         0.         0.         0.         0.\n",
            "  0.01176471 0.         0.14117647 0.53333333 0.49803922 0.24313725\n",
            "  0.21176471 0.         0.         0.         0.00392157 0.01176471\n",
            "  0.01568627 0.         0.         0.01176471]\n",
            " [0.         0.         0.         0.         0.         0.\n",
            "  0.         0.         0.         0.         0.         0.\n",
            "  0.02352941 0.         0.4        0.8        0.69019608 0.5254902\n",
            "  0.56470588 0.48235294 0.09019608 0.         0.         0.\n",
            "  0.         0.04705882 0.03921569 0.        ]\n",
            " [0.         0.         0.         0.         0.         0.\n",
            "  0.         0.         0.         0.         0.         0.\n",
            "  0.         0.         0.60784314 0.9254902  0.81176471 0.69803922\n",
            "  0.41960784 0.61176471 0.63137255 0.42745098 0.25098039 0.09019608\n",
            "  0.30196078 0.50980392 0.28235294 0.05882353]\n",
            " [0.         0.         0.         0.         0.         0.\n",
            "  0.         0.         0.         0.         0.         0.00392157\n",
            "  0.         0.27058824 0.81176471 0.8745098  0.85490196 0.84705882\n",
            "  0.84705882 0.63921569 0.49803922 0.4745098  0.47843137 0.57254902\n",
            "  0.55294118 0.34509804 0.6745098  0.25882353]\n",
            " [0.         0.         0.         0.         0.         0.\n",
            "  0.         0.         0.         0.00392157 0.00392157 0.00392157\n",
            "  0.         0.78431373 0.90980392 0.90980392 0.91372549 0.89803922\n",
            "  0.8745098  0.8745098  0.84313725 0.83529412 0.64313725 0.49803922\n",
            "  0.48235294 0.76862745 0.89803922 0.        ]\n",
            " [0.         0.         0.         0.         0.         0.\n",
            "  0.         0.         0.         0.         0.         0.\n",
            "  0.         0.71764706 0.88235294 0.84705882 0.8745098  0.89411765\n",
            "  0.92156863 0.89019608 0.87843137 0.87058824 0.87843137 0.86666667\n",
            "  0.8745098  0.96078431 0.67843137 0.        ]\n",
            " [0.         0.         0.         0.         0.         0.\n",
            "  0.         0.         0.         0.         0.         0.\n",
            "  0.         0.75686275 0.89411765 0.85490196 0.83529412 0.77647059\n",
            "  0.70588235 0.83137255 0.82352941 0.82745098 0.83529412 0.8745098\n",
            "  0.8627451  0.95294118 0.79215686 0.        ]\n",
            " [0.         0.         0.         0.         0.         0.\n",
            "  0.         0.         0.         0.00392157 0.01176471 0.\n",
            "  0.04705882 0.85882353 0.8627451  0.83137255 0.85490196 0.75294118\n",
            "  0.6627451  0.89019608 0.81568627 0.85490196 0.87843137 0.83137255\n",
            "  0.88627451 0.77254902 0.81960784 0.20392157]\n",
            " [0.         0.         0.         0.         0.         0.\n",
            "  0.         0.         0.         0.         0.02352941 0.\n",
            "  0.38823529 0.95686275 0.87058824 0.8627451  0.85490196 0.79607843\n",
            "  0.77647059 0.86666667 0.84313725 0.83529412 0.87058824 0.8627451\n",
            "  0.96078431 0.46666667 0.65490196 0.21960784]\n",
            " [0.         0.         0.         0.         0.         0.\n",
            "  0.         0.         0.         0.01568627 0.         0.\n",
            "  0.21568627 0.9254902  0.89411765 0.90196078 0.89411765 0.94117647\n",
            "  0.90980392 0.83529412 0.85490196 0.8745098  0.91764706 0.85098039\n",
            "  0.85098039 0.81960784 0.36078431 0.        ]\n",
            " [0.         0.         0.00392157 0.01568627 0.02352941 0.02745098\n",
            "  0.00784314 0.         0.         0.         0.         0.\n",
            "  0.92941176 0.88627451 0.85098039 0.8745098  0.87058824 0.85882353\n",
            "  0.87058824 0.86666667 0.84705882 0.8745098  0.89803922 0.84313725\n",
            "  0.85490196 1.         0.30196078 0.        ]\n",
            " [0.         0.01176471 0.         0.         0.         0.\n",
            "  0.         0.         0.         0.24313725 0.56862745 0.8\n",
            "  0.89411765 0.81176471 0.83529412 0.86666667 0.85490196 0.81568627\n",
            "  0.82745098 0.85490196 0.87843137 0.8745098  0.85882353 0.84313725\n",
            "  0.87843137 0.95686275 0.62352941 0.        ]\n",
            " [0.         0.         0.         0.         0.07058824 0.17254902\n",
            "  0.32156863 0.41960784 0.74117647 0.89411765 0.8627451  0.87058824\n",
            "  0.85098039 0.88627451 0.78431373 0.80392157 0.82745098 0.90196078\n",
            "  0.87843137 0.91764706 0.69019608 0.7372549  0.98039216 0.97254902\n",
            "  0.91372549 0.93333333 0.84313725 0.        ]\n",
            " [0.         0.22352941 0.73333333 0.81568627 0.87843137 0.86666667\n",
            "  0.87843137 0.81568627 0.8        0.83921569 0.81568627 0.81960784\n",
            "  0.78431373 0.62352941 0.96078431 0.75686275 0.80784314 0.8745098\n",
            "  1.         1.         0.86666667 0.91764706 0.86666667 0.82745098\n",
            "  0.8627451  0.90980392 0.96470588 0.        ]\n",
            " [0.01176471 0.79215686 0.89411765 0.87843137 0.86666667 0.82745098\n",
            "  0.82745098 0.83921569 0.80392157 0.80392157 0.80392157 0.8627451\n",
            "  0.94117647 0.31372549 0.58823529 1.         0.89803922 0.86666667\n",
            "  0.7372549  0.60392157 0.74901961 0.82352941 0.8        0.81960784\n",
            "  0.87058824 0.89411765 0.88235294 0.        ]\n",
            " [0.38431373 0.91372549 0.77647059 0.82352941 0.87058824 0.89803922\n",
            "  0.89803922 0.91764706 0.97647059 0.8627451  0.76078431 0.84313725\n",
            "  0.85098039 0.94509804 0.25490196 0.28627451 0.41568627 0.45882353\n",
            "  0.65882353 0.85882353 0.86666667 0.84313725 0.85098039 0.8745098\n",
            "  0.8745098  0.87843137 0.89803922 0.11372549]\n",
            " [0.29411765 0.8        0.83137255 0.8        0.75686275 0.80392157\n",
            "  0.82745098 0.88235294 0.84705882 0.7254902  0.77254902 0.80784314\n",
            "  0.77647059 0.83529412 0.94117647 0.76470588 0.89019608 0.96078431\n",
            "  0.9372549  0.8745098  0.85490196 0.83137255 0.81960784 0.87058824\n",
            "  0.8627451  0.86666667 0.90196078 0.2627451 ]\n",
            " [0.18823529 0.79607843 0.71764706 0.76078431 0.83529412 0.77254902\n",
            "  0.7254902  0.74509804 0.76078431 0.75294118 0.79215686 0.83921569\n",
            "  0.85882353 0.86666667 0.8627451  0.9254902  0.88235294 0.84705882\n",
            "  0.78039216 0.80784314 0.72941176 0.70980392 0.69411765 0.6745098\n",
            "  0.70980392 0.80392157 0.80784314 0.45098039]\n",
            " [0.         0.47843137 0.85882353 0.75686275 0.70196078 0.67058824\n",
            "  0.71764706 0.76862745 0.8        0.82352941 0.83529412 0.81176471\n",
            "  0.82745098 0.82352941 0.78431373 0.76862745 0.76078431 0.74901961\n",
            "  0.76470588 0.74901961 0.77647059 0.75294118 0.69019608 0.61176471\n",
            "  0.65490196 0.69411765 0.82352941 0.36078431]\n",
            " [0.         0.         0.29019608 0.74117647 0.83137255 0.74901961\n",
            "  0.68627451 0.6745098  0.68627451 0.70980392 0.7254902  0.7372549\n",
            "  0.74117647 0.7372549  0.75686275 0.77647059 0.8        0.81960784\n",
            "  0.82352941 0.82352941 0.82745098 0.7372549  0.7372549  0.76078431\n",
            "  0.75294118 0.84705882 0.66666667 0.        ]\n",
            " [0.00784314 0.         0.         0.         0.25882353 0.78431373\n",
            "  0.87058824 0.92941176 0.9372549  0.94901961 0.96470588 0.95294118\n",
            "  0.95686275 0.86666667 0.8627451  0.75686275 0.74901961 0.70196078\n",
            "  0.71372549 0.71372549 0.70980392 0.69019608 0.65098039 0.65882353\n",
            "  0.38823529 0.22745098 0.         0.        ]\n",
            " [0.         0.         0.         0.         0.         0.\n",
            "  0.         0.15686275 0.23921569 0.17254902 0.28235294 0.16078431\n",
            "  0.1372549  0.         0.         0.         0.         0.\n",
            "  0.         0.         0.         0.         0.         0.\n",
            "  0.         0.         0.         0.        ]\n",
            " [0.         0.         0.         0.         0.         0.\n",
            "  0.         0.         0.         0.         0.         0.\n",
            "  0.         0.         0.         0.         0.         0.\n",
            "  0.         0.         0.         0.         0.         0.\n",
            "  0.         0.         0.         0.        ]\n",
            " [0.         0.         0.         0.         0.         0.\n",
            "  0.         0.         0.         0.         0.         0.\n",
            "  0.         0.         0.         0.         0.         0.\n",
            "  0.         0.         0.         0.         0.         0.\n",
            "  0.         0.         0.         0.        ]]\n"
          ],
          "name": "stdout"
        }
      ]
    },
    {
      "cell_type": "code",
      "metadata": {
        "colab": {
          "base_uri": "https://localhost:8080/"
        },
        "id": "9blKv27XPQY0",
        "outputId": "520ad206-484c-4a23-c9b7-2d3adc29c5a8"
      },
      "source": [
        "#  라벨 정보 수정 (\"one hot encoding\") 이진수로 바꿈\r\n",
        "Y_train = np_utils.to_categorical(Y_train, 10)\r\n",
        "print('학습용 데이터 첫번째 이미지의 라벨',Y_train[0])\r\n",
        "Y_test = np_utils.to_categorical(Y_test,10)\r\n",
        "\r\n",
        "print('학습용 입력 데이터', X_train.shape)\r\n",
        "print('학습용 출력 데이터:', Y_train.shape)\r\n",
        "\r\n",
        "print('평가용 입력 데이터', X_test.shape)\r\n",
        "print('평가용 출력 데이터:', Y_test.shape)\r\n"
      ],
      "execution_count": 6,
      "outputs": [
        {
          "output_type": "stream",
          "text": [
            "학습용 데이터 첫번째 이미지의 라벨 [0. 0. 0. 0. 0. 0. 0. 0. 0. 1.]\n",
            "학습용 입력 데이터 (60000, 28, 28, 1)\n",
            "학습용 출력 데이터: (60000, 10)\n",
            "평가용 입력 데이터 (10000, 28, 28, 1)\n",
            "평가용 출력 데이터: (10000, 10)\n"
          ],
          "name": "stdout"
        }
      ]
    },
    {
      "cell_type": "markdown",
      "metadata": {
        "id": "iXr71Cp2RtLV"
      },
      "source": [
        "3. 인공 신경망 구현"
      ]
    },
    {
      "cell_type": "code",
      "metadata": {
        "colab": {
          "base_uri": "https://localhost:8080/"
        },
        "id": "NHWOi4qJRyr1",
        "outputId": "17eae779-8de6-4bd7-a025-d397ff51d434"
      },
      "source": [
        "# CNN 구현\r\n",
        "model = Sequential()\r\n",
        "model.add(InputLayer(input_shape=(28,28,1)))\r\n",
        "\r\n",
        "# 첫번째 합성곱 블럭 (conv+pooling)\r\n",
        "model.add(Conv2D(filters=32,\r\n",
        "                 kernel_size=2, \r\n",
        "                 padding='same',\r\n",
        "                 activation='relu'))\r\n",
        "model.add(MaxPool2D(pool_size=2))\r\n",
        "\r\n",
        "# 두번째 합성곱 블럭 (conv+pooling)\r\n",
        "model.add(Conv2D(filters=64,\r\n",
        "                 kernel_size=2, \r\n",
        "                 padding='same',\r\n",
        "                 activation='relu'))\r\n",
        "\r\n",
        "model.add(MaxPool2D(pool_size=2))\r\n",
        "\r\n",
        "# DNN 입성 (flatten 을 사용하여 은닉층으로 들어감)\r\n",
        "model.add(Flatten())\r\n",
        "\r\n",
        "model.add(Dense(units=128,\r\n",
        "                activation='relu'))\r\n",
        "\r\n",
        "model.add(Dense(units=10,\r\n",
        "                activation='softmax'))\r\n",
        "\r\n",
        "print('CNN요약')\r\n",
        "model.summary()"
      ],
      "execution_count": 7,
      "outputs": [
        {
          "output_type": "stream",
          "text": [
            "CNN요약\n",
            "Model: \"sequential\"\n",
            "_________________________________________________________________\n",
            "Layer (type)                 Output Shape              Param #   \n",
            "=================================================================\n",
            "conv2d (Conv2D)              (None, 28, 28, 32)        160       \n",
            "_________________________________________________________________\n",
            "max_pooling2d (MaxPooling2D) (None, 14, 14, 32)        0         \n",
            "_________________________________________________________________\n",
            "conv2d_1 (Conv2D)            (None, 14, 14, 64)        8256      \n",
            "_________________________________________________________________\n",
            "max_pooling2d_1 (MaxPooling2 (None, 7, 7, 64)          0         \n",
            "_________________________________________________________________\n",
            "flatten (Flatten)            (None, 3136)              0         \n",
            "_________________________________________________________________\n",
            "dense (Dense)                (None, 128)               401536    \n",
            "_________________________________________________________________\n",
            "dense_1 (Dense)              (None, 10)                1290      \n",
            "=================================================================\n",
            "Total params: 411,242\n",
            "Trainable params: 411,242\n",
            "Non-trainable params: 0\n",
            "_________________________________________________________________\n"
          ],
          "name": "stdout"
        }
      ]
    },
    {
      "cell_type": "markdown",
      "metadata": {
        "id": "0Q4kE_SqdbBY"
      },
      "source": [
        "4. 인공신경망 학습"
      ]
    },
    {
      "cell_type": "code",
      "metadata": {
        "colab": {
          "base_uri": "https://localhost:8080/"
        },
        "id": "FrITbyIrdiof",
        "outputId": "55cc72dd-6661-4d00-943f-9ced04e7f6cd"
      },
      "source": [
        "#  학습환경, 학습 방식 설정\r\n",
        "\r\n",
        "model.compile(optimizer='adam',\r\n",
        "#model.compile(optimizer='sgd',\r\n",
        "            #    loss='categorical_crossentropy',\r\n",
        "               loss='mse',\r\n",
        "#               loss='mae',\r\n",
        "               metrics=['acc'])\r\n",
        "\r\n",
        "#  CNN 학습 (verbose 결과를 출력할 것인가 말것인가)\r\n",
        "\r\n",
        "print(\"학습 시작\")\r\n",
        "begin = time()\r\n",
        "\r\n",
        "model.fit(x=X_train,\r\n",
        "          y=Y_train,\r\n",
        "          epochs=MY_EPOCH,\r\n",
        "          batch_size=MY_BATCH,\r\n",
        "          verbose=1)\r\n",
        "\r\n",
        "end = time()\r\n",
        "print('학습시간: {:.2f}'.format(end-begin))\r\n"
      ],
      "execution_count": 8,
      "outputs": [
        {
          "output_type": "stream",
          "text": [
            "학습 시작\n",
            "Epoch 1/100\n",
            "120/120 [==============================] - 4s 10ms/step - loss: 0.0483 - acc: 0.6547\n",
            "Epoch 2/100\n",
            "120/120 [==============================] - 1s 10ms/step - loss: 0.0206 - acc: 0.8591\n",
            "Epoch 3/100\n",
            "120/120 [==============================] - 1s 10ms/step - loss: 0.0180 - acc: 0.8779\n",
            "Epoch 4/100\n",
            "120/120 [==============================] - 1s 10ms/step - loss: 0.0166 - acc: 0.8871\n",
            "Epoch 5/100\n",
            "120/120 [==============================] - 1s 10ms/step - loss: 0.0150 - acc: 0.8990\n",
            "Epoch 6/100\n",
            "120/120 [==============================] - 1s 10ms/step - loss: 0.0142 - acc: 0.9057\n",
            "Epoch 7/100\n",
            "120/120 [==============================] - 1s 10ms/step - loss: 0.0138 - acc: 0.9064\n",
            "Epoch 8/100\n",
            "120/120 [==============================] - 1s 10ms/step - loss: 0.0133 - acc: 0.9116\n",
            "Epoch 9/100\n",
            "120/120 [==============================] - 1s 10ms/step - loss: 0.0123 - acc: 0.9176\n",
            "Epoch 10/100\n",
            "120/120 [==============================] - 1s 10ms/step - loss: 0.0123 - acc: 0.9181\n",
            "Epoch 11/100\n",
            "120/120 [==============================] - 1s 10ms/step - loss: 0.0117 - acc: 0.9223\n",
            "Epoch 12/100\n",
            "120/120 [==============================] - 1s 10ms/step - loss: 0.0112 - acc: 0.9262\n",
            "Epoch 13/100\n",
            "120/120 [==============================] - 1s 10ms/step - loss: 0.0110 - acc: 0.9276\n",
            "Epoch 14/100\n",
            "120/120 [==============================] - 1s 10ms/step - loss: 0.0108 - acc: 0.9286\n",
            "Epoch 15/100\n",
            "120/120 [==============================] - 1s 10ms/step - loss: 0.0101 - acc: 0.9346\n",
            "Epoch 16/100\n",
            "120/120 [==============================] - 1s 10ms/step - loss: 0.0100 - acc: 0.9341\n",
            "Epoch 17/100\n",
            "120/120 [==============================] - 1s 10ms/step - loss: 0.0093 - acc: 0.9396\n",
            "Epoch 18/100\n",
            "120/120 [==============================] - 1s 10ms/step - loss: 0.0093 - acc: 0.9406\n",
            "Epoch 19/100\n",
            "120/120 [==============================] - 1s 10ms/step - loss: 0.0090 - acc: 0.9414\n",
            "Epoch 20/100\n",
            "120/120 [==============================] - 1s 10ms/step - loss: 0.0083 - acc: 0.9466\n",
            "Epoch 21/100\n",
            "120/120 [==============================] - 1s 10ms/step - loss: 0.0086 - acc: 0.9457\n",
            "Epoch 22/100\n",
            "120/120 [==============================] - 1s 10ms/step - loss: 0.0082 - acc: 0.9470\n",
            "Epoch 23/100\n",
            "120/120 [==============================] - 1s 10ms/step - loss: 0.0078 - acc: 0.9523\n",
            "Epoch 24/100\n",
            "120/120 [==============================] - 1s 10ms/step - loss: 0.0076 - acc: 0.9523\n",
            "Epoch 25/100\n",
            "120/120 [==============================] - 1s 10ms/step - loss: 0.0074 - acc: 0.9540\n",
            "Epoch 26/100\n",
            "120/120 [==============================] - 1s 10ms/step - loss: 0.0066 - acc: 0.9602\n",
            "Epoch 27/100\n",
            "120/120 [==============================] - 1s 10ms/step - loss: 0.0067 - acc: 0.9582\n",
            "Epoch 28/100\n",
            "120/120 [==============================] - 1s 10ms/step - loss: 0.0062 - acc: 0.9627\n",
            "Epoch 29/100\n",
            "120/120 [==============================] - 1s 10ms/step - loss: 0.0062 - acc: 0.9624\n",
            "Epoch 30/100\n",
            "120/120 [==============================] - 1s 10ms/step - loss: 0.0059 - acc: 0.9640\n",
            "Epoch 31/100\n",
            "120/120 [==============================] - 1s 10ms/step - loss: 0.0054 - acc: 0.9675\n",
            "Epoch 32/100\n",
            "120/120 [==============================] - 1s 10ms/step - loss: 0.0055 - acc: 0.9661\n",
            "Epoch 33/100\n",
            "120/120 [==============================] - 1s 10ms/step - loss: 0.0054 - acc: 0.9675\n",
            "Epoch 34/100\n",
            "120/120 [==============================] - 1s 10ms/step - loss: 0.0052 - acc: 0.9686\n",
            "Epoch 35/100\n",
            "120/120 [==============================] - 1s 10ms/step - loss: 0.0050 - acc: 0.9696\n",
            "Epoch 36/100\n",
            "120/120 [==============================] - 1s 10ms/step - loss: 0.0047 - acc: 0.9730\n",
            "Epoch 37/100\n",
            "120/120 [==============================] - 1s 10ms/step - loss: 0.0045 - acc: 0.9735\n",
            "Epoch 38/100\n",
            "120/120 [==============================] - 1s 10ms/step - loss: 0.0042 - acc: 0.9763\n",
            "Epoch 39/100\n",
            "120/120 [==============================] - 1s 10ms/step - loss: 0.0046 - acc: 0.9724\n",
            "Epoch 40/100\n",
            "120/120 [==============================] - 1s 10ms/step - loss: 0.0039 - acc: 0.9784\n",
            "Epoch 41/100\n",
            "120/120 [==============================] - 1s 10ms/step - loss: 0.0041 - acc: 0.9768\n",
            "Epoch 42/100\n",
            "120/120 [==============================] - 1s 10ms/step - loss: 0.0045 - acc: 0.9734\n",
            "Epoch 43/100\n",
            "120/120 [==============================] - 1s 10ms/step - loss: 0.0035 - acc: 0.9807\n",
            "Epoch 44/100\n",
            "120/120 [==============================] - 1s 10ms/step - loss: 0.0034 - acc: 0.9812\n",
            "Epoch 45/100\n",
            "120/120 [==============================] - 1s 10ms/step - loss: 0.0031 - acc: 0.9830\n",
            "Epoch 46/100\n",
            "120/120 [==============================] - 1s 10ms/step - loss: 0.0033 - acc: 0.9814\n",
            "Epoch 47/100\n",
            "120/120 [==============================] - 1s 10ms/step - loss: 0.0032 - acc: 0.9827\n",
            "Epoch 48/100\n",
            "120/120 [==============================] - 1s 10ms/step - loss: 0.0029 - acc: 0.9848\n",
            "Epoch 49/100\n",
            "120/120 [==============================] - 1s 10ms/step - loss: 0.0030 - acc: 0.9845\n",
            "Epoch 50/100\n",
            "120/120 [==============================] - 1s 10ms/step - loss: 0.0028 - acc: 0.9844\n",
            "Epoch 51/100\n",
            "120/120 [==============================] - 1s 10ms/step - loss: 0.0028 - acc: 0.9848\n",
            "Epoch 52/100\n",
            "120/120 [==============================] - 1s 10ms/step - loss: 0.0031 - acc: 0.9823\n",
            "Epoch 53/100\n",
            "120/120 [==============================] - 1s 10ms/step - loss: 0.0026 - acc: 0.9861\n",
            "Epoch 54/100\n",
            "120/120 [==============================] - 1s 10ms/step - loss: 0.0027 - acc: 0.9854\n",
            "Epoch 55/100\n",
            "120/120 [==============================] - 1s 10ms/step - loss: 0.0024 - acc: 0.9876\n",
            "Epoch 56/100\n",
            "120/120 [==============================] - 1s 10ms/step - loss: 0.0022 - acc: 0.9888\n",
            "Epoch 57/100\n",
            "120/120 [==============================] - 1s 10ms/step - loss: 0.0022 - acc: 0.9885\n",
            "Epoch 58/100\n",
            "120/120 [==============================] - 1s 10ms/step - loss: 0.0021 - acc: 0.9891\n",
            "Epoch 59/100\n",
            "120/120 [==============================] - 1s 10ms/step - loss: 0.0022 - acc: 0.9885\n",
            "Epoch 60/100\n",
            "120/120 [==============================] - 1s 10ms/step - loss: 0.0022 - acc: 0.9879\n",
            "Epoch 61/100\n",
            "120/120 [==============================] - 1s 10ms/step - loss: 0.0025 - acc: 0.9864\n",
            "Epoch 62/100\n",
            "120/120 [==============================] - 1s 10ms/step - loss: 0.0021 - acc: 0.9885\n",
            "Epoch 63/100\n",
            "120/120 [==============================] - 1s 10ms/step - loss: 0.0024 - acc: 0.9865\n",
            "Epoch 64/100\n",
            "120/120 [==============================] - 1s 10ms/step - loss: 0.0024 - acc: 0.9865\n",
            "Epoch 65/100\n",
            "120/120 [==============================] - 1s 10ms/step - loss: 0.0022 - acc: 0.9878\n",
            "Epoch 66/100\n",
            "120/120 [==============================] - 1s 10ms/step - loss: 0.0019 - acc: 0.9897\n",
            "Epoch 67/100\n",
            "120/120 [==============================] - 1s 10ms/step - loss: 0.0019 - acc: 0.9899\n",
            "Epoch 68/100\n",
            "120/120 [==============================] - 1s 10ms/step - loss: 0.0017 - acc: 0.9906\n",
            "Epoch 69/100\n",
            "120/120 [==============================] - 1s 10ms/step - loss: 0.0018 - acc: 0.9906\n",
            "Epoch 70/100\n",
            "120/120 [==============================] - 1s 10ms/step - loss: 0.0019 - acc: 0.9899\n",
            "Epoch 71/100\n",
            "120/120 [==============================] - 1s 10ms/step - loss: 0.0018 - acc: 0.9907\n",
            "Epoch 72/100\n",
            "120/120 [==============================] - 1s 10ms/step - loss: 0.0020 - acc: 0.9891\n",
            "Epoch 73/100\n",
            "120/120 [==============================] - 1s 10ms/step - loss: 0.0018 - acc: 0.9902\n",
            "Epoch 74/100\n",
            "120/120 [==============================] - 1s 10ms/step - loss: 0.0019 - acc: 0.9899\n",
            "Epoch 75/100\n",
            "120/120 [==============================] - 1s 10ms/step - loss: 0.0020 - acc: 0.9896\n",
            "Epoch 76/100\n",
            "120/120 [==============================] - 1s 10ms/step - loss: 0.0018 - acc: 0.9903\n",
            "Epoch 77/100\n",
            "120/120 [==============================] - 1s 10ms/step - loss: 0.0018 - acc: 0.9903\n",
            "Epoch 78/100\n",
            "120/120 [==============================] - 1s 10ms/step - loss: 0.0018 - acc: 0.9902\n",
            "Epoch 79/100\n",
            "120/120 [==============================] - 1s 10ms/step - loss: 0.0019 - acc: 0.9895\n",
            "Epoch 80/100\n",
            "120/120 [==============================] - 1s 10ms/step - loss: 0.0016 - acc: 0.9919\n",
            "Epoch 81/100\n",
            "120/120 [==============================] - 1s 10ms/step - loss: 0.0017 - acc: 0.9905\n",
            "Epoch 82/100\n",
            "120/120 [==============================] - 1s 10ms/step - loss: 0.0020 - acc: 0.9889\n",
            "Epoch 83/100\n",
            "120/120 [==============================] - 1s 10ms/step - loss: 0.0016 - acc: 0.9914\n",
            "Epoch 84/100\n",
            "120/120 [==============================] - 1s 10ms/step - loss: 0.0019 - acc: 0.9894\n",
            "Epoch 85/100\n",
            "120/120 [==============================] - 1s 10ms/step - loss: 0.0017 - acc: 0.9913\n",
            "Epoch 86/100\n",
            "120/120 [==============================] - 1s 10ms/step - loss: 0.0014 - acc: 0.9924\n",
            "Epoch 87/100\n",
            "120/120 [==============================] - 1s 10ms/step - loss: 0.0015 - acc: 0.9919\n",
            "Epoch 88/100\n",
            "120/120 [==============================] - 1s 10ms/step - loss: 0.0015 - acc: 0.9918\n",
            "Epoch 89/100\n",
            "120/120 [==============================] - 1s 10ms/step - loss: 0.0015 - acc: 0.9920\n",
            "Epoch 90/100\n",
            "120/120 [==============================] - 1s 10ms/step - loss: 0.0018 - acc: 0.9898\n",
            "Epoch 91/100\n",
            "120/120 [==============================] - 1s 10ms/step - loss: 0.0020 - acc: 0.9883\n",
            "Epoch 92/100\n",
            "120/120 [==============================] - 1s 10ms/step - loss: 0.0018 - acc: 0.9898\n",
            "Epoch 93/100\n",
            "120/120 [==============================] - 1s 10ms/step - loss: 0.0016 - acc: 0.9917\n",
            "Epoch 94/100\n",
            "120/120 [==============================] - 1s 10ms/step - loss: 0.0013 - acc: 0.9931\n",
            "Epoch 95/100\n",
            "120/120 [==============================] - 1s 10ms/step - loss: 0.0019 - acc: 0.9896\n",
            "Epoch 96/100\n",
            "120/120 [==============================] - 1s 10ms/step - loss: 0.0017 - acc: 0.9907\n",
            "Epoch 97/100\n",
            "120/120 [==============================] - 1s 10ms/step - loss: 0.0017 - acc: 0.9908\n",
            "Epoch 98/100\n",
            "120/120 [==============================] - 1s 10ms/step - loss: 0.0015 - acc: 0.9920\n",
            "Epoch 99/100\n",
            "120/120 [==============================] - 1s 10ms/step - loss: 0.0016 - acc: 0.9915\n",
            "Epoch 100/100\n",
            "120/120 [==============================] - 1s 10ms/step - loss: 0.0015 - acc: 0.9921\n",
            "학습시간: 121.01\n"
          ],
          "name": "stdout"
        }
      ]
    },
    {
      "cell_type": "code",
      "metadata": {
        "id": "Ypu8_mo1iCNW"
      },
      "source": [
        "# 위에서 120은 회수 (6만개를 500개씩 가져오면 batch는 120번 가져와야 함)"
      ],
      "execution_count": 9,
      "outputs": []
    },
    {
      "cell_type": "code",
      "metadata": {
        "colab": {
          "base_uri": "https://localhost:8080/"
        },
        "id": "C6cS9aymfLW_",
        "outputId": "c12f7d9d-34c9-4518-9ba6-a21c263f7f2a"
      },
      "source": [
        "# CNN  평가\r\n",
        "score = model.evaluate(x=X_test,\r\n",
        "                       y=Y_test,\r\n",
        "                       verbose=1)\r\n",
        "\r\n",
        "print('최종 손실값: {:.2f}'.format(score[0]))\r\n",
        "print('최종 정확도: {:.2f}'.format(score[1]))"
      ],
      "execution_count": 10,
      "outputs": [
        {
          "output_type": "stream",
          "text": [
            "313/313 [==============================] - 1s 2ms/step - loss: 0.0144 - acc: 0.9136\n",
            "최종 손실값: 0.01\n",
            "최종 정확도: 0.91\n"
          ],
          "name": "stdout"
        }
      ]
    },
    {
      "cell_type": "markdown",
      "metadata": {
        "id": "HZXG7LsUnhGa"
      },
      "source": [
        ""
      ]
    },
    {
      "cell_type": "markdown",
      "metadata": {
        "id": "OO2x3PR5f_A-"
      },
      "source": [
        "6.  CNN  예측"
      ]
    },
    {
      "cell_type": "code",
      "metadata": {
        "colab": {
          "base_uri": "https://localhost:8080/"
        },
        "id": "AQyhO5nBgDhM",
        "outputId": "4886a9cd-5035-4f88-8e55-01180c47e159"
      },
      "source": [
        "# 샘플 이미지 지정\r\n",
        "image = X_test[1234]\r\n",
        "print(image.shape)\r\n",
        "\r\n",
        "# batch 정보 추가 (1: batch 1개씩 가져온다는 뜻)\r\n",
        "image = image.reshape(1, 28, 28, 1)\r\n",
        "pred = model.predict(image)\r\n",
        "\r\n",
        "# 정보 출력 (softmax 처리가 된 10개 확률)\r\n",
        "print('CNN 예측 값', pred)\r\n",
        "print('정답:', Y_test[1234])\r\n",
        "\r\n"
      ],
      "execution_count": 11,
      "outputs": [
        {
          "output_type": "stream",
          "text": [
            "(28, 28, 1)\n",
            "CNN 예측 값 [[3.8960189e-12 5.5858369e-12 3.8311967e-01 4.4843141e-13 6.1679751e-01\n",
            "  3.4467600e-16 8.2784856e-05 2.5586510e-16 8.6447030e-12 1.8021623e-13]]\n",
            "정답: [0. 0. 0. 0. 1. 0. 0. 0. 0. 0.]\n"
          ],
          "name": "stdout"
        }
      ]
    },
    {
      "cell_type": "code",
      "metadata": {
        "colab": {
          "base_uri": "https://localhost:8080/",
          "height": 610
        },
        "id": "0mEg3RN5lPvJ",
        "outputId": "5d9016d6-2135-4b38-efad-a370d1e92602"
      },
      "source": [
        "# 1234   번째 데이터 그리기 (정규화 255 나눈거 다시 곱해줌)\r\n",
        "\r\n",
        "plt.figure(figsize=(10,10))\r\n",
        "tmp = X_train[1234].reshape(28,28)\r\n",
        "tmp = tmp*255\r\n",
        "plt.imshow(tmp, cmap='gray')"
      ],
      "execution_count": 12,
      "outputs": [
        {
          "output_type": "execute_result",
          "data": {
            "text/plain": [
              "<matplotlib.image.AxesImage at 0x7fcf65f1d400>"
            ]
          },
          "metadata": {
            "tags": []
          },
          "execution_count": 12
        },
        {
          "output_type": "display_data",
          "data": {
            "image/png": "[encoded data removed]",
            "text/plain": [
              "<Figure size 720x720 with 1 Axes>"
            ]
          },
          "metadata": {
            "tags": [],
            "needs_background": "light"
          }
        }
      ]
    }
  ]
}