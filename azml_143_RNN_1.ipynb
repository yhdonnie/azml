{
  "nbformat": 4,
  "nbformat_minor": 0,
  "metadata": {
    "colab": {
      "name": "azml-143/RNN-1.ipynb",
      "provenance": [],
      "collapsed_sections": [],
      "mount_file_id": "1q-rnF-vZh6cMBe0VCFC1ns_ZLVQDkd_H",
      "authorship_tag": "ABX9TyMox5kJQ5mMr2KUA3Yd0OKU",
      "include_colab_link": true
    },
    "kernelspec": {
      "name": "python3",
      "display_name": "Python 3"
    },
    "accelerator": "GPU"
  },
  "cells": [
    {
      "cell_type": "markdown",
      "metadata": {
        "id": "view-in-github",
        "colab_type": "text"
      },
      "source": [
        "<a href=\"https://colab.research.google.com/github/yhdonnie/azml/blob/circleci-project-setup/azml_143_RNN_1.ipynb\" target=\"_parent\"><img src=\"https://colab.research.google.com/assets/colab-badge.svg\" alt=\"Open In Colab\"/></a>"
      ]
    },
    {
      "cell_type": "markdown",
      "metadata": {
        "id": "-XqHhgNofusC"
      },
      "source": [
        "###  Keras RNN 으로 여행자 수 예측"
      ]
    },
    {
      "cell_type": "markdown",
      "metadata": {
        "id": "o8MQjmEph0VC"
      },
      "source": [
        "1. 패키지 수입 및 파라미터 설정"
      ]
    },
    {
      "cell_type": "code",
      "metadata": {
        "id": "sONRE3u9gIsz"
      },
      "source": [
        "# 수입\r\n",
        "import pandas as pd\r\n",
        "import numpy as np\r\n",
        "import matplotlib.pyplot as plt\r\n",
        "\r\n",
        "from time import time\r\n",
        "from sklearn.preprocessing import MinMaxScaler, StandardScaler\r\n",
        "from keras.layers import Dense\r\n",
        "from keras.layers import LSTM, InputLayer\r\n",
        "from keras.models import Sequential \r\n",
        "from sklearn.model_selection import train_test_split"
      ],
      "execution_count": 1,
      "outputs": []
    },
    {
      "cell_type": "code",
      "metadata": {
        "id": "Ud4YFSA4hTPp"
      },
      "source": [
        "# 파라미터 (MY_SHAPE 에서 ,1 이 필요한 이유)\r\n",
        "MY_PAST = 12\r\n",
        "MY_SPLIT = 0.8\r\n",
        "MY_HIDDEN = 300\r\n",
        "MY_SHAPE = (MY_PAST, 1)\r\n",
        "MY_EPOCH = 300"
      ],
      "execution_count": 2,
      "outputs": []
    },
    {
      "cell_type": "markdown",
      "metadata": {
        "id": "6bFCqbfchqs6"
      },
      "source": [
        "2. 데이터 처리"
      ]
    },
    {
      "cell_type": "code",
      "metadata": {
        "id": "DDSwGuwvhxFi"
      },
      "source": [
        "# 데이터 읽기\r\n",
        "raw = pd.read_csv('/content/drive/MyDrive/data/airline.csv',\r\n",
        "                  header=None,\r\n",
        "                  usecols=[1])\r\n",
        "\r\n",
        "\r\n",
        "#  샘플  출력\r\n",
        "# print(raw.head(15))\r\n",
        "# print(raw.describe())"
      ],
      "execution_count": 3,
      "outputs": []
    },
    {
      "cell_type": "code",
      "metadata": {
        "colab": {
          "base_uri": "https://localhost:8080/",
          "height": 338
        },
        "id": "s6IrDWJWkxcY",
        "outputId": "ebc0365f-c93e-4752-f1aa-ed9a73ab88c3"
      },
      "source": [
        "plt.figure(figsize=(10,5))\r\n",
        "plt.plot(raw)"
      ],
      "execution_count": 4,
      "outputs": [
        {
          "output_type": "execute_result",
          "data": {
            "text/plain": [
              "[<matplotlib.lines.Line2D at 0x7f72af34aef0>]"
            ]
          },
          "metadata": {
            "tags": []
          },
          "execution_count": 4
        },
        {
          "output_type": "display_data",
          "data": {
            "image/png": "[encoded data removed]",
            "text/plain": [
              "<Figure size 720x360 with 1 Axes>"
            ]
          },
          "metadata": {
            "tags": [],
            "needs_background": "light"
          }
        }
      ]
    },
    {
      "cell_type": "code",
      "metadata": {
        "colab": {
          "base_uri": "https://localhost:8080/"
        },
        "id": "7HGN8cA2lLx4",
        "outputId": "2f765f77-12c1-4029-b066-06d6ec650c85"
      },
      "source": [
        "# 데이터 정규화  (정규화하면  pandas 가 numpy 가 됨)\r\n",
        "scaler = MinMaxScaler()\r\n",
        "\r\n",
        "#scaler = StandardScaler()\r\n",
        "s_data = scaler.fit_transform(raw)\r\n",
        "# s_data =(s_data-0.5)*2\r\n",
        "\r\n",
        "print(type(s_data))\r\n",
        "#print(s_data)\r\n",
        "# print(s_data.flatten())\r\n",
        "# plt.figure(figsize=(10,5))\r\n",
        "# plt.plot(s_data)\r\n"
      ],
      "execution_count": 5,
      "outputs": [
        {
          "output_type": "stream",
          "text": [
            "<class 'numpy.ndarray'>\n"
          ],
          "name": "stdout"
        }
      ]
    },
    {
      "cell_type": "code",
      "metadata": {
        "colab": {
          "base_uri": "https://localhost:8080/"
        },
        "id": "J14NKhXm3MNu",
        "outputId": "58e97f5a-42d9-45db-e226-e52b075e1189"
      },
      "source": [
        "# 데이터 분할 \r\n",
        "data = []\r\n",
        "for i in range(len(s_data) - MY_PAST):\r\n",
        "    data.append(s_data[i: i + MY_PAST + 1])\r\n",
        "\r\n",
        "print('한 묶음의 크기:', len(data[0]))\r\n",
        "print('총 묶음의 수:', len(data))\r\n",
        "print('첫번째 묶음 내용/n', data[0])\r\n",
        "print('두번째 묶음 내용/n', data[1])"
      ],
      "execution_count": 6,
      "outputs": [
        {
          "output_type": "stream",
          "text": [
            "한 묶음의 크기: 13\n",
            "총 묶음의 수: 132\n",
            "첫번째 묶음 내용/n [[0.01544402]\n",
            " [0.02702703]\n",
            " [0.05405405]\n",
            " [0.04826255]\n",
            " [0.03281853]\n",
            " [0.05984556]\n",
            " [0.08494208]\n",
            " [0.08494208]\n",
            " [0.06177606]\n",
            " [0.02895753]\n",
            " [0.        ]\n",
            " [0.02702703]\n",
            " [0.02123552]]\n",
            "두번째 묶음 내용/n [[0.02702703]\n",
            " [0.05405405]\n",
            " [0.04826255]\n",
            " [0.03281853]\n",
            " [0.05984556]\n",
            " [0.08494208]\n",
            " [0.08494208]\n",
            " [0.06177606]\n",
            " [0.02895753]\n",
            " [0.        ]\n",
            " [0.02702703]\n",
            " [0.02123552]\n",
            " [0.04247104]]\n"
          ],
          "name": "stdout"
        }
      ]
    },
    {
      "cell_type": "code",
      "metadata": {
        "id": "3RXJMMaUBr6f",
        "colab": {
          "base_uri": "https://localhost:8080/"
        },
        "outputId": "c583aa74-6647-40d1-93c4-f0c760a4f64a"
      },
      "source": [
        "#  데이러틑  numpy 로 전환\r\n",
        "print(type(data))\r\n",
        "data = np.array(data)\r\n",
        "print(type(data))\r\n",
        "\r\n",
        "# 묶음들을 임의로 섞음: 시계열 안의 데이터의 순서는 안망가짐 (132, 13, 1--숫자 하나하나가 다 한차원 data)\r\n",
        "# np.random.shuffle(data)\r\n",
        "print(data.shape)\r\n",
        "# print(data)\r\n",
        "\r\n",
        "# 데이터를 입력과 출력으로 분할 (: 132개 다 사용한다)\r\n",
        "X_data = data[:, 0:MY_PAST]\r\n",
        "Y_data = data[:, -1]\r\n",
        "\r\n",
        "print('입력 데이터 모양',  X_data.shape)\r\n",
        "print('출력 데이터 모양',  Y_data.shape)\r\n",
        "\r\n"
      ],
      "execution_count": 7,
      "outputs": [
        {
          "output_type": "stream",
          "text": [
            "<class 'list'>\n",
            "<class 'numpy.ndarray'>\n",
            "(132, 13, 1)\n",
            "입력 데이터 모양 (132, 12, 1)\n",
            "출력 데이터 모양 (132, 1)\n"
          ],
          "name": "stdout"
        }
      ]
    },
    {
      "cell_type": "code",
      "metadata": {
        "colab": {
          "base_uri": "https://localhost:8080/"
        },
        "id": "R7arlkyxKdYL",
        "outputId": "2c65fb6c-9159-4c67-e747-dc6868ea7c3a"
      },
      "source": [
        "# 데이터 4분할\r\n",
        "X_train, X_test, Y_train, Y_test = train_test_split(X_data, \r\n",
        "                                                    Y_data, \r\n",
        "                                                    train_size= MY_SPLIT,\r\n",
        "                                                    shuffle=False)\r\n",
        "\r\n",
        "# 최종 데이터 모양 출력\r\n",
        "print('학습용 입력 데이터 모양:', X_train.shape)\r\n",
        "print('학습용 출력 데이터 모양:', Y_train.shape)\r\n",
        "print('평가용 입력 데이터 모양:', X_test.shape)\r\n",
        "print('평가용 출력 데이터 모양:', Y_test.shape)"
      ],
      "execution_count": 8,
      "outputs": [
        {
          "output_type": "stream",
          "text": [
            "학습용 입력 데이터 모양: (105, 12, 1)\n",
            "학습용 출력 데이터 모양: (105, 1)\n",
            "평가용 입력 데이터 모양: (27, 12, 1)\n",
            "평가용 출력 데이터 모양: (27, 1)\n"
          ],
          "name": "stdout"
        }
      ]
    },
    {
      "cell_type": "markdown",
      "metadata": {
        "id": "iEwWLdAGMxv5"
      },
      "source": [
        "3. 인공 신경망 구현"
      ]
    },
    {
      "cell_type": "code",
      "metadata": {
        "colab": {
          "base_uri": "https://localhost:8080/"
        },
        "id": "5xW1WPiVM2V2",
        "outputId": "c382c403-e4b6-4d96-990e-2ce2be16901a"
      },
      "source": [
        "# RNN 구현\r\n",
        "model = Sequential()\r\n",
        "\r\n",
        "model.add(InputLayer(input_shape=MY_SHAPE))\r\n",
        "\r\n",
        "model.add(LSTM(units = MY_HIDDEN))\r\n",
        "\r\n",
        "# model.add(Dense(units=1,\r\n",
        "#                activation='sigmoid'))\r\n",
        "\r\n",
        "model.add(Dense(units=1,\r\n",
        "                activation='tanh'))\r\n",
        "\r\n",
        "print('RNN 요약')\r\n",
        "model.summary()"
      ],
      "execution_count": 9,
      "outputs": [
        {
          "output_type": "stream",
          "text": [
            "RNN 요약\n",
            "Model: \"sequential\"\n",
            "_________________________________________________________________\n",
            "Layer (type)                 Output Shape              Param #   \n",
            "=================================================================\n",
            "lstm (LSTM)                  (None, 300)               362400    \n",
            "_________________________________________________________________\n",
            "dense (Dense)                (None, 1)                 301       \n",
            "=================================================================\n",
            "Total params: 362,701\n",
            "Trainable params: 362,701\n",
            "Non-trainable params: 0\n",
            "_________________________________________________________________\n"
          ],
          "name": "stdout"
        }
      ]
    },
    {
      "cell_type": "markdown",
      "metadata": {
        "id": "wvyFyhLPTyhF"
      },
      "source": [
        "4. 인공 신경망 학습"
      ]
    },
    {
      "cell_type": "code",
      "metadata": {
        "colab": {
          "base_uri": "https://localhost:8080/"
        },
        "id": "knkdJeOdUAQU",
        "outputId": "9518f823-b95f-45ef-ee37-78e6289aac9d"
      },
      "source": [
        "# RNN 학습 설정\r\n",
        "#model.compile(optimizer='rmsprop',\r\n",
        "model.compile(optimizer='adam',\r\n",
        "              loss ='mae')\r\n",
        "            #    loss = 'mape')\r\n",
        "            #   metrics = ['acc'])\r\n",
        "\r\n",
        "#  정확도 필요없어서 뺌   metrics = ['acc'])\r\n",
        "\r\n",
        "print('학습시작')\r\n",
        "begin = time()\r\n",
        "\r\n",
        "model.fit(x=X_train,\r\n",
        "          y=Y_train,\r\n",
        "          epochs = MY_EPOCH,\r\n",
        "          verbose=0)\r\n",
        "\r\n",
        "end=time()\r\n",
        "print('학습 계산: {:.2f}'.format(end - begin))\r\n"
      ],
      "execution_count": 10,
      "outputs": [
        {
          "output_type": "stream",
          "text": [
            "학습시작\n",
            "학습 계산: 44.42\n"
          ],
          "name": "stdout"
        }
      ]
    },
    {
      "cell_type": "markdown",
      "metadata": {
        "id": "UM1I7TuvWRbb"
      },
      "source": [
        "5. 인공신경망 평가"
      ]
    },
    {
      "cell_type": "code",
      "metadata": {
        "colab": {
          "base_uri": "https://localhost:8080/"
        },
        "id": "LMtR0uEEWZfS",
        "outputId": "716ece8e-18fa-4854-9340-942f21e69d80"
      },
      "source": [
        "# RNN 평가 ..  regression 에서 정확도는 의미 없음. 손실값만 봄\r\n",
        "score = model.evaluate(x=X_test,\r\n",
        "                       y=Y_test,\r\n",
        "                       verbose=0)\r\n",
        "\r\n",
        "# print('최종 손실값:', score[0])\r\n",
        "\r\n",
        "# print('최종 정확도', score[1])\r\n",
        "\r\n",
        "print('최종 손실값:', score)\r\n"
      ],
      "execution_count": 11,
      "outputs": [
        {
          "output_type": "stream",
          "text": [
            "최종 손실값: 0.08389449864625931\n"
          ],
          "name": "stdout"
        }
      ]
    },
    {
      "cell_type": "markdown",
      "metadata": {
        "id": "Jl_OLKI8ktfU"
      },
      "source": [
        "6. 인공 신경망 예측"
      ]
    },
    {
      "cell_type": "code",
      "metadata": {
        "colab": {
          "base_uri": "https://localhost:8080/",
          "height": 446
        },
        "id": "IeKGtqBGrp8O",
        "outputId": "489b3281-26e5-4102-efd5-d53320737e0f"
      },
      "source": [
        "# RNN으로 예측\r\n",
        "pred = model.predict(x=X_test)\r\n",
        "\r\n",
        "# 예측결과 및 정답 그래프 그리기\r\n",
        "plt.figure(figsize=(10,7))\r\n",
        "plt.plot(pred, 'r')\r\n",
        "#  묶음을 임의로 묵은거 해제\r\n",
        "plt.plot(Y_test, 'g')"
      ],
      "execution_count": 12,
      "outputs": [
        {
          "output_type": "execute_result",
          "data": {
            "text/plain": [
              "[<matplotlib.lines.Line2D at 0x7f72a82e40b8>]"
            ]
          },
          "metadata": {
            "tags": []
          },
          "execution_count": 12
        },
        {
          "output_type": "display_data",
          "data": {
            "image/png": "[encoded data removed]",
            "text/plain": [
              "<Figure size 720x504 with 1 Axes>"
            ]
          },
          "metadata": {
            "tags": [],
            "needs_background": "light"
          }
        }
      ]
    },
    {
      "cell_type": "code",
      "metadata": {
        "colab": {
          "base_uri": "https://localhost:8080/"
        },
        "id": "N6zM_gG1k2KK",
        "outputId": "caf5a437-cce1-4a24-86ea-4fc67dfa8056"
      },
      "source": [
        "print('역전환 전:', pred)\r\n",
        "print(pred.shape)\r\n",
        "\r\n",
        "# 데이터 역전환 (sigmoid 함수를 원래로 되돌리는거)\r\n",
        "pred = scaler.inverse_transform(pred)\r\n",
        "\r\n",
        "print('역전환 후:', pred)\r\n",
        "print(pred.shape)\r\n",
        "\r\n",
        "# sqeeze 결과\r\n",
        "# tmp = np.squeeze(pred)\r\n",
        "tmp = np.squeeze(pred).astype(int)\r\n",
        "print('squeeze 후:', tmp)\r\n",
        "print(tmp.shape)"
      ],
      "execution_count": 13,
      "outputs": [
        {
          "output_type": "stream",
          "text": [
            "역전환 전: [[0.5220452 ]\n",
            " [0.46948135]\n",
            " [0.4438224 ]\n",
            " [0.43804696]\n",
            " [0.421392  ]\n",
            " [0.41358772]\n",
            " [0.46287343]\n",
            " [0.51599807]\n",
            " [0.6847614 ]\n",
            " [0.7991538 ]\n",
            " [0.81343335]\n",
            " [0.68334246]\n",
            " [0.53839946]\n",
            " [0.46850654]\n",
            " [0.45614862]\n",
            " [0.48313364]\n",
            " [0.46167666]\n",
            " [0.46145177]\n",
            " [0.48937976]\n",
            " [0.5739355 ]\n",
            " [0.6976569 ]\n",
            " [0.82547444]\n",
            " [0.85050625]\n",
            " [0.748728  ]\n",
            " [0.6264616 ]\n",
            " [0.56957316]\n",
            " [0.528811  ]]\n",
            "(27, 1)\n",
            "역전환 후: [[374.41943]\n",
            " [347.19135]\n",
            " [333.9    ]\n",
            " [330.90833]\n",
            " [322.28104]\n",
            " [318.23843]\n",
            " [343.76843]\n",
            " [371.28702]\n",
            " [458.70642]\n",
            " [517.9617 ]\n",
            " [525.35846]\n",
            " [457.9714 ]\n",
            " [382.89093]\n",
            " [346.6864 ]\n",
            " [340.285  ]\n",
            " [354.2632 ]\n",
            " [343.14853]\n",
            " [343.03204]\n",
            " [357.49872]\n",
            " [401.2986 ]\n",
            " [465.3863 ]\n",
            " [531.59576]\n",
            " [544.56226]\n",
            " [491.8411 ]\n",
            " [428.50714]\n",
            " [399.0389 ]\n",
            " [377.9241 ]]\n",
            "(27, 1)\n",
            "squeeze 후: [374 347 333 330 322 318 343 371 458 517 525 457 382 346 340 354 343 343\n",
            " 357 401 465 531 544 491 428 399 377]\n",
            "(27,)\n"
          ],
          "name": "stdout"
        }
      ]
    },
    {
      "cell_type": "code",
      "metadata": {
        "colab": {
          "base_uri": "https://localhost:8080/"
        },
        "id": "mvUuu3PZnoAy",
        "outputId": "f2ab9789-2886-485f-db5d-d2a677603cab"
      },
      "source": [
        "# 정답 출력\r\n",
        "print('역전환 전 정답:', Y_test)\r\n",
        "# 정답 역전환\r\n",
        "Y_test = scaler.inverse_transform(Y_test)\r\n",
        "print('역전환 후 정답:', Y_test)"
      ],
      "execution_count": 14,
      "outputs": [
        {
          "output_type": "stream",
          "text": [
            "역전환 전 정답: [[0.49227799]\n",
            " [0.3976834 ]\n",
            " [0.44980695]\n",
            " [0.49420849]\n",
            " [0.45945946]\n",
            " [0.58301158]\n",
            " [0.56370656]\n",
            " [0.61003861]\n",
            " [0.71042471]\n",
            " [0.85714286]\n",
            " [0.87837838]\n",
            " [0.69305019]\n",
            " [0.58494208]\n",
            " [0.4980695 ]\n",
            " [0.58108108]\n",
            " [0.6042471 ]\n",
            " [0.55405405]\n",
            " [0.60810811]\n",
            " [0.68918919]\n",
            " [0.71042471]\n",
            " [0.83204633]\n",
            " [1.        ]\n",
            " [0.96911197]\n",
            " [0.77992278]\n",
            " [0.68918919]\n",
            " [0.55212355]\n",
            " [0.63320463]]\n",
            "역전환 후 정답: [[359.]\n",
            " [310.]\n",
            " [337.]\n",
            " [360.]\n",
            " [342.]\n",
            " [406.]\n",
            " [396.]\n",
            " [420.]\n",
            " [472.]\n",
            " [548.]\n",
            " [559.]\n",
            " [463.]\n",
            " [407.]\n",
            " [362.]\n",
            " [405.]\n",
            " [417.]\n",
            " [391.]\n",
            " [419.]\n",
            " [461.]\n",
            " [472.]\n",
            " [535.]\n",
            " [622.]\n",
            " [606.]\n",
            " [508.]\n",
            " [461.]\n",
            " [390.]\n",
            " [432.]]\n"
          ],
          "name": "stdout"
        }
      ]
    },
    {
      "cell_type": "code",
      "metadata": {
        "id": "k1AqWxFpuTNN"
      },
      "source": [
        "# # RNN으로 예측\r\n",
        "# pred = model.predict(x=X_test)\r\n",
        "\r\n",
        "# # 예측결과 및 정답 그래프 그리기\r\n",
        "# plt.figure(figsize=(10,7))\r\n",
        "# plt.plot(pred, 'r')\r\n",
        "# #  묶음을 임의로 묵은거 해제\r\n",
        "# plt.plot(Y_test, 'g')"
      ],
      "execution_count": 15,
      "outputs": []
    }
  ]
}