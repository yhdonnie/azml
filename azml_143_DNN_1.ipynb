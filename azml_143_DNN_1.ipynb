{
  "nbformat": 4,
  "nbformat_minor": 0,
  "metadata": {
    "colab": {
      "name": "Keras DNN",
      "provenance": [],
      "collapsed_sections": [],
      "mount_file_id": "1x04Af9c-vROkvLhdIZNMEmMr9OOf_cIf",
      "authorship_tag": "ABX9TyOLbsouskRAsqNef7TrYEno",
      "include_colab_link": true
    },
    "kernelspec": {
      "name": "python3",
      "display_name": "Python 3"
    },
    "accelerator": "GPU"
  },
  "cells": [
    {
      "cell_type": "markdown",
      "metadata": {
        "id": "view-in-github",
        "colab_type": "text"
      },
      "source": [
        "<a href=\"https://colab.research.google.com/github/yhdonnie/azml/blob/circleci-project-setup/azml_143_DNN_1.ipynb\" target=\"_parent\"><img src=\"https://colab.research.google.com/assets/colab-badge.svg\" alt=\"Open In Colab\"/></a>"
      ]
    },
    {
      "cell_type": "markdown",
      "metadata": {
        "id": "UHG67dW4q09d"
      },
      "source": [
        "### Keras DNN 으로 집값 예측하기"
      ]
    },
    {
      "cell_type": "markdown",
      "metadata": {
        "id": "PrEwjuzDrH0R"
      },
      "source": [
        "1. 패키지 수입 및 파라미터 설정\r\n"
      ]
    },
    {
      "cell_type": "code",
      "metadata": {
        "id": "627HYFoFrdPN"
      },
      "source": [
        "# 수입\r\n",
        "import pandas as pd\r\n",
        "import matplotlib.pyplot as plt\r\n",
        "import seaborn as sns\r\n",
        "\r\n",
        "from time import time\r\n",
        "from keras.models import Sequential\r\n",
        "from keras.layers import Dense\r\n",
        "from sklearn.preprocessing import StandardScaler\r\n",
        "from sklearn.preprocessing import MinMaxScaler\r\n",
        "from sklearn.model_selection import train_test_split"
      ],
      "execution_count": 1,
      "outputs": []
    },
    {
      "cell_type": "code",
      "metadata": {
        "id": "Cx8f9YRAuzxb"
      },
      "source": [
        "# parameter\r\n",
        "MY_HIDDEN = 1000\r\n",
        "MY_EPOCH = 500\r\n",
        "\r\n",
        "# 한페이지에 다 나오게 \r\n",
        "pd.set_option('display.max_columns', None)\r\n",
        "import numpy as np\r\n",
        "np.random.seed(123)"
      ],
      "execution_count": 2,
      "outputs": []
    },
    {
      "cell_type": "markdown",
      "metadata": {
        "id": "uLwf_RnpyAiz"
      },
      "source": [
        "2. 데이터 처리"
      ]
    },
    {
      "cell_type": "code",
      "metadata": {
        "id": "MMzUESLgx_g2",
        "colab": {
          "base_uri": "https://localhost:8080/"
        },
        "outputId": "2e51f139-d5bf-41d1-d635-f18e1b322b1d"
      },
      "source": [
        "# 데이터 읽기\r\n",
        "raw= pd.read_csv('/content/drive/MyDrive/data/housing.csv')\r\n",
        "\r\n",
        "# 데이터 샘플 10개 출력\r\n",
        "print(raw.head(10))\r\n",
        "\r\n",
        "# 데이터 통계 출력\r\n",
        "print(raw.describe())"
      ],
      "execution_count": 3,
      "outputs": [
        {
          "output_type": "stream",
          "text": [
            "      CRIM    ZN  INDUS  CHAS    NOX     RM    AGE     DIS  RAD  TAX  PTRATIO  \\\n",
            "0  0.00632  18.0   2.31     0  0.538  6.575   65.2  4.0900    1  296     15.3   \n",
            "1  0.02731   0.0   7.07     0  0.469  6.421   78.9  4.9671    2  242     17.8   \n",
            "2  0.02729   0.0   7.07     0  0.469  7.185   61.1  4.9671    2  242     17.8   \n",
            "3  0.03237   0.0   2.18     0  0.458  6.998   45.8  6.0622    3  222     18.7   \n",
            "4  0.06905   0.0   2.18     0  0.458  7.147   54.2  6.0622    3  222     18.7   \n",
            "5  0.02985   0.0   2.18     0  0.458  6.430   58.7  6.0622    3  222     18.7   \n",
            "6  0.08829  12.5   7.87     0  0.524  6.012   66.6  5.5605    5  311     15.2   \n",
            "7  0.14455  12.5   7.87     0  0.524  6.172   96.1  5.9505    5  311     15.2   \n",
            "8  0.21124  12.5   7.87     0  0.524  5.631  100.0  6.0821    5  311     15.2   \n",
            "9  0.17004  12.5   7.87     0  0.524  6.004   85.9  6.5921    5  311     15.2   \n",
            "\n",
            "   LSTAT  MEDV  \n",
            "0   4.98  24.0  \n",
            "1   9.14  21.6  \n",
            "2   4.03  34.7  \n",
            "3   2.94  33.4  \n",
            "4   5.33  36.2  \n",
            "5   5.21  28.7  \n",
            "6  12.43  22.9  \n",
            "7  19.15  27.1  \n",
            "8  29.93  16.5  \n",
            "9  17.10  18.9  \n",
            "             CRIM          ZN       INDUS        CHAS         NOX          RM  \\\n",
            "count  506.000000  506.000000  506.000000  506.000000  506.000000  506.000000   \n",
            "mean     3.613524   11.363636   11.136779    0.069170    0.554695    6.284634   \n",
            "std      8.601545   23.322453    6.860353    0.253994    0.115878    0.702617   \n",
            "min      0.006320    0.000000    0.460000    0.000000    0.385000    3.561000   \n",
            "25%      0.082045    0.000000    5.190000    0.000000    0.449000    5.885500   \n",
            "50%      0.256510    0.000000    9.690000    0.000000    0.538000    6.208500   \n",
            "75%      3.677082   12.500000   18.100000    0.000000    0.624000    6.623500   \n",
            "max     88.976200  100.000000   27.740000    1.000000    0.871000    8.780000   \n",
            "\n",
            "              AGE         DIS         RAD         TAX     PTRATIO       LSTAT  \\\n",
            "count  506.000000  506.000000  506.000000  506.000000  506.000000  506.000000   \n",
            "mean    68.574901    3.795043    9.549407  408.237154   18.455534   12.653063   \n",
            "std     28.148861    2.105710    8.707259  168.537116    2.164946    7.141062   \n",
            "min      2.900000    1.129600    1.000000  187.000000   12.600000    1.730000   \n",
            "25%     45.025000    2.100175    4.000000  279.000000   17.400000    6.950000   \n",
            "50%     77.500000    3.207450    5.000000  330.000000   19.050000   11.360000   \n",
            "75%     94.075000    5.188425   24.000000  666.000000   20.200000   16.955000   \n",
            "max    100.000000   12.126500   24.000000  711.000000   22.000000   37.970000   \n",
            "\n",
            "             MEDV  \n",
            "count  506.000000  \n",
            "mean    22.532806  \n",
            "std      9.197104  \n",
            "min      5.000000  \n",
            "25%     17.025000  \n",
            "50%     21.200000  \n",
            "75%     25.000000  \n",
            "max     50.000000  \n"
          ],
          "name": "stdout"
        }
      ]
    },
    {
      "cell_type": "code",
      "metadata": {
        "id": "pupsbekN1pHp",
        "colab": {
          "base_uri": "https://localhost:8080/",
          "height": 511
        },
        "outputId": "d941ccef-035f-4dad-eefd-9641fb1126fb"
      },
      "source": [
        "plt.figure(figsize=(15,8))\r\n",
        "sns.set(font_scale=1.5)\r\n",
        "sns.boxplot(data=raw, palette='dark')"
      ],
      "execution_count": 4,
      "outputs": [
        {
          "output_type": "execute_result",
          "data": {
            "text/plain": [
              "<matplotlib.axes._subplots.AxesSubplot at 0x7fa66eac2d30>"
            ]
          },
          "metadata": {
            "tags": []
          },
          "execution_count": 4
        },
        {
          "output_type": "display_data",
          "data": {
            "image/png": "[encoded data removed]",
            "text/plain": [
              "<Figure size 1080x576 with 1 Axes>"
            ]
          },
          "metadata": {
            "tags": [],
            "needs_background": "light"
          }
        }
      ]
    },
    {
      "cell_type": "code",
      "metadata": {
        "id": "2L1EkkFm2Mrj",
        "colab": {
          "base_uri": "https://localhost:8080/"
        },
        "outputId": "618eded8-627b-40af-d183-71cb100f4173"
      },
      "source": [
        "# z-점수 정규화\r\n",
        "#scaler = StandardScaler()\r\n",
        "#z_data = scaler.fit_transform(raw)\r\n",
        "\r\n",
        "#min-max scaler\r\n",
        "scaler = MinMaxScaler()\r\n",
        "z_data = scaler.fit_transform(raw)\r\n",
        "\r\n",
        "# 데이터 형식 출력\r\n",
        "print(type(raw))\r\n",
        "print(type(z_data))\r\n",
        "\r\n",
        "# numpy 를 pandas로 재전환 (정규화하면 numpy가 되기 때문에)\r\n",
        "heading = ['CRIM', 'ZN', 'INDUS', 'CHAR', 'NOX', 'RM', 'AGE',\r\n",
        "           'DIS', 'RAD', 'TAX', 'PTRATIO', 'LSTAT', 'MEDV']\r\n",
        "\r\n",
        "z_data = pd.DataFrame(z_data, columns=heading)\r\n",
        "print(type(z_data))\r\n",
        "\r\n",
        "# z-점수 정규화된 데이터 샘플 출력\r\n",
        "print(z_data.head(10))\r\n",
        "print(z_data.describe())"
      ],
      "execution_count": 5,
      "outputs": [
        {
          "output_type": "stream",
          "text": [
            "<class 'pandas.core.frame.DataFrame'>\n",
            "<class 'numpy.ndarray'>\n",
            "<class 'pandas.core.frame.DataFrame'>\n",
            "       CRIM     ZN     INDUS  CHAR       NOX        RM       AGE       DIS  \\\n",
            "0  0.000000  0.180  0.067815   0.0  0.314815  0.577505  0.641607  0.269203   \n",
            "1  0.000236  0.000  0.242302   0.0  0.172840  0.547998  0.782698  0.348962   \n",
            "2  0.000236  0.000  0.242302   0.0  0.172840  0.694386  0.599382  0.348962   \n",
            "3  0.000293  0.000  0.063050   0.0  0.150206  0.658555  0.441813  0.448545   \n",
            "4  0.000705  0.000  0.063050   0.0  0.150206  0.687105  0.528321  0.448545   \n",
            "5  0.000264  0.000  0.063050   0.0  0.150206  0.549722  0.574665  0.448545   \n",
            "6  0.000921  0.125  0.271628   0.0  0.286008  0.469630  0.656025  0.402923   \n",
            "7  0.001554  0.125  0.271628   0.0  0.286008  0.500287  0.959835  0.438387   \n",
            "8  0.002303  0.125  0.271628   0.0  0.286008  0.396628  1.000000  0.450354   \n",
            "9  0.001840  0.125  0.271628   0.0  0.286008  0.468097  0.854789  0.496731   \n",
            "\n",
            "        RAD       TAX   PTRATIO     LSTAT      MEDV  \n",
            "0  0.000000  0.208015  0.287234  0.089680  0.422222  \n",
            "1  0.043478  0.104962  0.553191  0.204470  0.368889  \n",
            "2  0.043478  0.104962  0.553191  0.063466  0.660000  \n",
            "3  0.086957  0.066794  0.648936  0.033389  0.631111  \n",
            "4  0.086957  0.066794  0.648936  0.099338  0.693333  \n",
            "5  0.086957  0.066794  0.648936  0.096026  0.526667  \n",
            "6  0.173913  0.236641  0.276596  0.295254  0.397778  \n",
            "7  0.173913  0.236641  0.276596  0.480684  0.491111  \n",
            "8  0.173913  0.236641  0.276596  0.778146  0.255556  \n",
            "9  0.173913  0.236641  0.276596  0.424117  0.308889  \n",
            "             CRIM          ZN       INDUS        CHAR         NOX          RM  \\\n",
            "count  506.000000  506.000000  506.000000  506.000000  506.000000  506.000000   \n",
            "mean     0.040544    0.113636    0.391378    0.069170    0.349167    0.521869   \n",
            "std      0.096679    0.233225    0.251479    0.253994    0.238431    0.134627   \n",
            "min      0.000000    0.000000    0.000000    0.000000    0.000000    0.000000   \n",
            "25%      0.000851    0.000000    0.173387    0.000000    0.131687    0.445392   \n",
            "50%      0.002812    0.000000    0.338343    0.000000    0.314815    0.507281   \n",
            "75%      0.041258    0.125000    0.646628    0.000000    0.491770    0.586798   \n",
            "max      1.000000    1.000000    1.000000    1.000000    1.000000    1.000000   \n",
            "\n",
            "              AGE         DIS         RAD         TAX     PTRATIO       LSTAT  \\\n",
            "count  506.000000  506.000000  506.000000  506.000000  506.000000  506.000000   \n",
            "mean     0.676364    0.242381    0.371713    0.422208    0.622929    0.301409   \n",
            "std      0.289896    0.191482    0.378576    0.321636    0.230313    0.197049   \n",
            "min      0.000000    0.000000    0.000000    0.000000    0.000000    0.000000   \n",
            "25%      0.433831    0.088259    0.130435    0.175573    0.510638    0.144040   \n",
            "50%      0.768280    0.188949    0.173913    0.272901    0.686170    0.265728   \n",
            "75%      0.938980    0.369088    1.000000    0.914122    0.808511    0.420116   \n",
            "max      1.000000    1.000000    1.000000    1.000000    1.000000    1.000000   \n",
            "\n",
            "             MEDV  \n",
            "count  506.000000  \n",
            "mean     0.389618  \n",
            "std      0.204380  \n",
            "min      0.000000  \n",
            "25%      0.267222  \n",
            "50%      0.360000  \n",
            "75%      0.444444  \n",
            "max      1.000000  \n"
          ],
          "name": "stdout"
        }
      ]
    },
    {
      "cell_type": "code",
      "metadata": {
        "colab": {
          "base_uri": "https://localhost:8080/",
          "height": 511
        },
        "id": "cqG1IEZ84ufM",
        "outputId": "8c08e2f6-5e4b-46cc-bcf9-2637888a2b0f"
      },
      "source": [
        "plt.figure(figsize=(15,8))\r\n",
        "sns.set(font_scale=1.5)\r\n",
        "sns.boxplot(data=z_data, palette='dark')"
      ],
      "execution_count": 6,
      "outputs": [
        {
          "output_type": "execute_result",
          "data": {
            "text/plain": [
              "<matplotlib.axes._subplots.AxesSubplot at 0x7fa62bf98ba8>"
            ]
          },
          "metadata": {
            "tags": []
          },
          "execution_count": 6
        },
        {
          "output_type": "display_data",
          "data": {
            "image/png": "[encoded data removed]",
            "text/plain": [
              "<Figure size 1080x576 with 1 Axes>"
            ]
          },
          "metadata": {
            "tags": []
          }
        }
      ]
    },
    {
      "cell_type": "code",
      "metadata": {
        "colab": {
          "base_uri": "https://localhost:8080/"
        },
        "id": "BhLJA6jj5A5b",
        "outputId": "83a32af1-8823-43f5-fe47-cc8d84232251"
      },
      "source": [
        "# 데이터 모양 출력\r\n",
        "print('분리 전:', z_data.shape)\r\n",
        "\r\n",
        "# 데이터를 입력과 출력으로 분리\r\n",
        "X_data = z_data.drop('MEDV', axis=1)\r\n",
        "Y_data = z_data['MEDV']\r\n",
        "\r\n",
        "# 데이터 모양 출력\r\n",
        "print('분리 후:')\r\n",
        "print(X_data.shape)\r\n",
        "print(Y_data.shape)"
      ],
      "execution_count": 7,
      "outputs": [
        {
          "output_type": "stream",
          "text": [
            "분리 전: (506, 13)\n",
            "분리 후:\n",
            "(506, 12)\n",
            "(506,)\n"
          ],
          "name": "stdout"
        }
      ]
    },
    {
      "cell_type": "code",
      "metadata": {
        "colab": {
          "base_uri": "https://localhost:8080/"
        },
        "id": "wKeIe9wD6mOj",
        "outputId": "1e01106d-6235-4e86-9ba8-08678145ab3b"
      },
      "source": [
        "# 데이터 4분할\r\n",
        "X_train, X_test, Y_train, Y_test = train_test_split(X_data,\r\n",
        "                                                    Y_data,\r\n",
        "                                                    train_size=0.7)\r\n",
        "# 최종 데이터 모양 출력\r\n",
        "print('학습용 입력 데이터 모양:', X_train.shape)\r\n",
        "print('학습용 출력 데이터 모양:', Y_train.shape)\r\n",
        "print('평가용 입력 데이터 모양:', X_test.shape)\r\n",
        "print('평가용 출력 데이터 모양:', Y_test.shape)\r\n"
      ],
      "execution_count": 8,
      "outputs": [
        {
          "output_type": "stream",
          "text": [
            "학습용 입력 데이터 모양: (354, 12)\n",
            "학습용 출력 데이터 모양: (354,)\n",
            "평가용 입력 데이터 모양: (152, 12)\n",
            "평가용 출력 데이터 모양: (152,)\n"
          ],
          "name": "stdout"
        }
      ]
    },
    {
      "cell_type": "markdown",
      "metadata": {
        "id": "aIyph9L78Uu1"
      },
      "source": [
        "3. 인공 신경망 구현"
      ]
    },
    {
      "cell_type": "code",
      "metadata": {
        "colab": {
          "base_uri": "https://localhost:8080/"
        },
        "id": "ZsEv1JwV8cBl",
        "outputId": "a671f6f5-201c-4104-c715-2767a9f1c55a"
      },
      "source": [
        "model = Sequential()\r\n",
        "\r\n",
        "input = X_train.shape[1]\r\n",
        "\r\n",
        "# 입력증과 은닉층 1 추가\r\n",
        "model.add(Dense(units=MY_HIDDEN,\r\n",
        "                input_dim=input,\r\n",
        "                activation='relu'))\r\n",
        "\r\n",
        "# 은닉층 2 추가\r\n",
        "model.add(Dense(units=MY_HIDDEN,\r\n",
        "                activation = 'relu'))\r\n",
        "\r\n",
        "\r\n",
        "# 출력층 추가\r\n",
        "model.add(Dense(units=1))\r\n",
        "\r\n",
        "print('DNN 요약')\r\n",
        "model.summary()"
      ],
      "execution_count": 9,
      "outputs": [
        {
          "output_type": "stream",
          "text": [
            "DNN 요약\n",
            "Model: \"sequential\"\n",
            "_________________________________________________________________\n",
            "Layer (type)                 Output Shape              Param #   \n",
            "=================================================================\n",
            "dense (Dense)                (None, 1000)              13000     \n",
            "_________________________________________________________________\n",
            "dense_1 (Dense)              (None, 1000)              1001000   \n",
            "_________________________________________________________________\n",
            "dense_2 (Dense)              (None, 1)                 1001      \n",
            "=================================================================\n",
            "Total params: 1,015,001\n",
            "Trainable params: 1,015,001\n",
            "Non-trainable params: 0\n",
            "_________________________________________________________________\n"
          ],
          "name": "stdout"
        }
      ]
    },
    {
      "cell_type": "code",
      "metadata": {
        "colab": {
          "base_uri": "https://localhost:8080/"
        },
        "id": "65p9MDEA_ezB",
        "outputId": "88898699-9faa-449e-eab7-bf94621871d9"
      },
      "source": [
        "# 학습 환경 설정\r\n",
        "model.compile(optimizer='adam',\r\n",
        "              loss='mse')\r\n",
        "\r\n",
        "print('학습시작')\r\n",
        "begin = time()\r\n",
        "\r\n",
        "model.fit(x=X_train,\r\n",
        "          y=Y_train,\r\n",
        "          epochs=MY_EPOCH,\r\n",
        "          verbose=0)\r\n",
        "\r\n",
        "end = time()\r\n",
        "print('총 학습시간: {:.2f}초'.format(end - begin))"
      ],
      "execution_count": 10,
      "outputs": [
        {
          "output_type": "stream",
          "text": [
            "학습시작\n",
            "총 학습시간: 46.55초\n"
          ],
          "name": "stdout"
        }
      ]
    },
    {
      "cell_type": "markdown",
      "metadata": {
        "id": "KA1B_GrtBEDv"
      },
      "source": [
        "5. 인공 신경망 평가"
      ]
    },
    {
      "cell_type": "code",
      "metadata": {
        "id": "yvxMWvpr_0ZQ"
      },
      "source": [
        ""
      ],
      "execution_count": 10,
      "outputs": []
    },
    {
      "cell_type": "code",
      "metadata": {
        "colab": {
          "base_uri": "https://localhost:8080/"
        },
        "id": "D74No2ltBQ5p",
        "collapsed": true,
        "outputId": "74b2b70c-3881-4e9f-a14c-f78851b1b762"
      },
      "source": [
        "# 신경망 평가\r\n",
        "loss = model.evaluate(x=X_test,\r\n",
        "                      y=Y_test,\r\n",
        "                      verbose=0)\r\n",
        "\r\n",
        "print('최종 손실값: {:.2f}'.format(loss))\r\n",
        "print('최종 손실값: ', loss)"
      ],
      "execution_count": 11,
      "outputs": [
        {
          "output_type": "stream",
          "text": [
            "최종 손실값: 0.01\n",
            "최종 손실값:  0.010828956961631775\n"
          ],
          "name": "stdout"
        }
      ]
    },
    {
      "cell_type": "code",
      "metadata": {
        "colab": {
          "base_uri": "https://localhost:8080/",
          "height": 642
        },
        "id": "BQstnR1EB6j9",
        "outputId": "79a7608a-1a66-4696-bbe0-6d692eda3e82"
      },
      "source": [
        "# DNN으로 예측\r\n",
        "pred = model.predict(x=X_test)\r\n",
        "plt.figure(figsize=(10,10))\r\n",
        "sns.regplot(x=Y_test, y=pred)"
      ],
      "execution_count": 12,
      "outputs": [
        {
          "output_type": "execute_result",
          "data": {
            "text/plain": [
              "<matplotlib.axes._subplots.AxesSubplot at 0x7fa6252d15c0>"
            ]
          },
          "metadata": {
            "tags": []
          },
          "execution_count": 12
        },
        {
          "output_type": "display_data",
          "data": {
            "image/png": "[encoded data removed]",
            "text/plain": [
              "<Figure size 720x720 with 1 Axes>"
            ]
          },
          "metadata": {
            "tags": []
          }
        }
      ]
    },
    {
      "cell_type": "code",
      "metadata": {
        "colab": {
          "base_uri": "https://localhost:8080/"
        },
        "id": "OPvDEtbZCUyo",
        "outputId": "a4ddaa3d-e6c6-4ee5-dd1c-9b2611e8b4bb"
      },
      "source": [
        "print(type(X_test))\r\n",
        "print(X_test.iloc[2])\r\n",
        "print(Y_test.iloc[2])\r\n",
        "print(Y_test.shape)\r\n",
        "print(pred[2])\r\n",
        "\r\n"
      ],
      "execution_count": 13,
      "outputs": [
        {
          "output_type": "stream",
          "text": [
            "<class 'pandas.core.frame.DataFrame'>\n",
            "CRIM       0.000331\n",
            "ZN         0.200000\n",
            "INDUS      0.105205\n",
            "CHAR       0.000000\n",
            "NOX        0.119136\n",
            "RM         0.816057\n",
            "AGE        0.634398\n",
            "DIS        0.324191\n",
            "RAD        0.173913\n",
            "TAX        0.055344\n",
            "PTRATIO    0.244681\n",
            "LSTAT      0.056015\n",
            "Name: 280, dtype: float64\n",
            "0.8977777777777778\n",
            "(152,)\n",
            "[0.87173086]\n"
          ],
          "name": "stdout"
        }
      ]
    }
  ]
}